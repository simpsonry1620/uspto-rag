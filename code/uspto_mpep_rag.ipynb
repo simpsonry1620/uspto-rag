{
 "cells": [
  {
   "cell_type": "markdown",
   "id": "2a17cc5a-962d-4179-bb73-801433b83ea7",
   "metadata": {},
   "source": [
    "# USPTO MPEP RAG Example"
   ]
  },
  {
   "cell_type": "markdown",
   "id": "a29e371f-5c09-4025-8b2b-ec71b7607696",
   "metadata": {},
   "source": [
    "First we need to verify that the raw PDFs exist locally, if not download and save them."
   ]
  },
  {
   "cell_type": "code",
   "execution_count": 1,
   "id": "d5b97cb9-98ff-475f-b983-b98e466897c2",
   "metadata": {},
   "outputs": [
    {
     "ename": "ModuleNotFoundError",
     "evalue": "No module named 'openai'",
     "output_type": "error",
     "traceback": [
      "\u001b[0;31m---------------------------------------------------------------------------\u001b[0m",
      "\u001b[0;31mModuleNotFoundError\u001b[0m                       Traceback (most recent call last)",
      "Cell \u001b[0;32mIn[1], line 3\u001b[0m\n\u001b[1;32m      1\u001b[0m \u001b[38;5;28;01mimport\u001b[39;00m \u001b[38;5;21;01mos\u001b[39;00m\n\u001b[1;32m      2\u001b[0m \u001b[38;5;28;01mimport\u001b[39;00m \u001b[38;5;21;01msubprocess\u001b[39;00m\n\u001b[0;32m----> 3\u001b[0m \u001b[38;5;28;01mfrom\u001b[39;00m \u001b[38;5;21;01mopenai\u001b[39;00m \u001b[38;5;28;01mimport\u001b[39;00m OpenAI\n\u001b[1;32m      5\u001b[0m \u001b[38;5;66;03m# Directory to check for PDFs\u001b[39;00m\n\u001b[1;32m      6\u001b[0m pdf_directory \u001b[38;5;241m=\u001b[39m \u001b[38;5;124m'\u001b[39m\u001b[38;5;124m../data/scratch/pdfs/\u001b[39m\u001b[38;5;124m'\u001b[39m\n",
      "\u001b[0;31mModuleNotFoundError\u001b[0m: No module named 'openai'"
     ]
    }
   ],
   "source": [
    "import os\n",
    "import subprocess\n",
    "from openai import OpenAI\n",
    "\n",
    "# Directory to check for PDFs\n",
    "pdf_directory = '../data/scratch/pdfs/'\n",
    "\n",
    "# Check if the directory exists and contains any PDFs\n",
    "def check_pdfs_exist(directory):\n",
    "    if not os.path.exists(directory):\n",
    "        return False\n",
    "    for file_name in os.listdir(directory):\n",
    "        if file_name.lower().endswith('.pdf'):\n",
    "            return True\n",
    "    return False\n",
    "\n",
    "def get_chat_response(prompt, api_key):\n",
    "    \"\"\"\n",
    "    Sends a prompt to the OpenAI chat model and returns the response.\n",
    "\n",
    "    Parameters:\n",
    "    prompt (str): The input prompt to send to the chat model.\n",
    "    api_key (str): The API key for authentication with the OpenAI service.\n",
    "\n",
    "    Returns:\n",
    "    str: The response from the chat model.\n",
    "    \"\"\"\n",
    "    client = OpenAI(\n",
    "        base_url=\"https://integrate.api.nvidia.com/v1\",\n",
    "        api_key=api_key\n",
    "    )\n",
    "\n",
    "    completion = client.chat.completions.create(\n",
    "        model=\"mistralai/mistral-large\",\n",
    "        messages=[{\"role\": \"user\", \"content\": prompt}],\n",
    "        temperature=0.5,\n",
    "        top_p=1,\n",
    "        max_tokens=1024,\n",
    "        stream=True\n",
    "    )\n",
    "\n",
    "    response = \"\"\n",
    "    for chunk in completion:\n",
    "        if chunk.choices[0].delta.content is not None:\n",
    "            response += chunk.choices[0].delta.content\n",
    "\n",
    "    return response"
   ]
  },
  {
   "cell_type": "code",
   "execution_count": null,
   "id": "63047f1e-a73c-45b2-bead-027a0adc3941",
   "metadata": {},
   "outputs": [],
   "source": [
    "# Path to the script to run if PDFs are not found\n",
    "script_path = 'download_mpep_zip.py'\n",
    "\n",
    "# Check if PDFs exist, if not run the script\n",
    "if check_pdfs_exist(pdf_directory):\n",
    "    print(\"PDFs already exist in the directory.\")\n",
    "else:\n",
    "    print(\"PDFs not found. Running the download script...\")\n",
    "    result = subprocess.run(['python3', script_path], capture_output=True, text=True)\n",
    "    if result.returncode == 0:\n",
    "        print(\"Script executed successfully.\")\n",
    "    else:\n",
    "        print(\"Error running the script.\")\n",
    "        print(result.stderr)"
   ]
  },
  {
   "cell_type": "code",
   "execution_count": 7,
   "id": "5d87a7a8-9e9c-4bbc-ba8a-a92241b3867f",
   "metadata": {},
   "outputs": [],
   "source": [
    "#!pip install langchain_community"
   ]
  },
  {
   "cell_type": "code",
   "execution_count": 8,
   "id": "63ebe611-d7f6-4a7b-9492-2d840edab6c7",
   "metadata": {},
   "outputs": [],
   "source": [
    "#!pip install pypdf"
   ]
  },
  {
   "cell_type": "code",
   "execution_count": 5,
   "id": "5669a7b2-df3e-43f8-ae2a-463feea27803",
   "metadata": {},
   "outputs": [],
   "source": [
    "from langchain_community.document_loaders import PyPDFLoader\n",
    "\n",
    "loader = PyPDFLoader(\"../data/scratch/pdfs/mpep-0100.pdf\")\n",
    "pages = loader.load_and_split()"
   ]
  },
  {
   "cell_type": "code",
   "execution_count": 6,
   "id": "706dd98c-fca8-4237-bdba-16419fac2df6",
   "metadata": {},
   "outputs": [
    {
     "name": "stdout",
     "output_type": "stream",
     "text": [
      "page_content='Chapter 100   Secr ecy, Access, National Security , and F oreign\\nFiling\\nGeneral 101 \\nInformation as to Status of an\\nApplication102 \\nRight of Public To Inspect P atent Files\\nand Some Application Files103 \\nPower to Inspect Application 104 \\nSuspended or Excluded Practitioner\\nCannot Inspect105 \\nContr ol of Inspection by Assignee 106 \\nRights of Assignee of P art Interest 106.01 \\n[Reser ved] 107-109 \\nConfidential Natur e of Inter national\\nApplications110 \\n[Reser ved] 111-114 \\nReview of Applications f or National\\nSecurity and Pr operty Rights Issues115 \\n[Reser ved] 116-119 \\nSecrecy Orders 120 \\nHandling of Applications under Secr ecy\\nOrder and/or Bearing National Security\\nMarkings121 \\n[Reser ved] 122-129 \\nExamination of Secr ecy Order Cases 130 \\n[Reser ved] 131-139 \\nForeign Filing Licenses 140 \\n[Reser ved] 141-149 \\nStatements to DOE and N ASA 150 \\nContent of the Statements 151 \\n101  General [R-07.2022]\\n35 U .S.C. 122  Confidential status of applications;\\npublication of patent applications.\\n(a)  CONFIDENTIALITY .— Except as pro vided in\\nsubsection (b), applications for patents shall be k ept in\\nconfidence by the P atent and Trademark Office and no\\ninformation concerning the same gi ven without authority of the\\napplicant or o wner unless necessary to carry out the pro visions\\nof an Act of Congress or in such special circumstances as may\\nbe determined by the Director .\\n(b)  PUBLICA TION.—\\n(1)  IN GENERAL.—\\n(A)  Subject to paragraph (2), each application for\\na patent shall be published, in accordance with procedures\\ndetermined by the Director , promptly after the e xpiration of a\\nperiod of 18 months from the earliest filing date for which a\\nbenefit is sought under this title. At the request of the applicant,\\nan application may be published earlier than the end of such\\n18-month period.(B)  No information concerning published patent\\napplications shall be made a vailable to the public e xcept as the\\nDirector determines.\\n(C)  Notwithstanding an y other pro vision of la w,\\na determination by the Director to release or not to release\\ninformation concerning a published patent application shall be\\nfinal and nonre viewable.\\n(2)  EXCEPTIONS.—\\n(A)  An application shall not be published if that\\napplication is—\\n(i)  no longer pending;\\n(ii)  subject to a secrec y order under section\\n181 ;\\n(iii)  a pro visional application filed under\\nsection 111(b) ; or\\n(iv)  an application for a design patent filed\\nunder chapter 16 .\\n(B)(i)  If an applicant mak es a request upon\\nfiling, certifying that the in vention disclosed in the application\\nhas not and will not be the subject of an application filed in\\nanother country , or under a multilateral international agreement,\\nthat requires publication of applications 18 months after filing,\\nthe application shall not be published as pro vided in paragraph\\n(1).\\n(ii)  An applicant may rescind a request made\\nunder clause (i) at an y time.\\n(iii)  An applicant who has made a request\\nunder clause (i) b ut who subsequently files, in a foreign country\\nor under a multilateral international agreement specified in\\nclause (i), an application directed to the in vention disclosed in\\nthe application filed in the P atent and Trademark Office, shall\\nnotify the Director of such filing not later than 45 days after the\\ndate of the filing of such foreign or international application. A\\nfailure of the applicant to pro vide such notice within the\\nprescribed period shall result in the application being re garded\\nas abandoned.\\n(iv)  If an applicant rescinds a request made\\nunder clause (i) or notifies the Director that an application w as\\nfiled in a foreign country or under a multilateral international\\nagreement specified in clause (i), the application shall be\\npublished in accordance with the pro visions of paragraph (1)\\non or as soon as is practical after the date that is specified in\\nclause (i).\\n(v)  If an applicant has filed applications in one\\nor more foreign countries, directly or through a multilateral' metadata={'source': '../data/scratch/pdfs/mpep-0100.pdf', 'page': 0}\n"
     ]
    }
   ],
   "source": [
    "print(pages[0])"
   ]
  },
  {
   "cell_type": "code",
   "execution_count": 10,
   "id": "1bd4b7db-e8ca-4d56-bc14-b3259ed12367",
   "metadata": {},
   "outputs": [
    {
     "name": "stdout",
     "output_type": "stream",
     "text": [
      "Defaulting to user installation because normal site-packages is not writeable\n",
      "Collecting openai\n",
      "  Downloading openai-1.30.2-py3-none-any.whl (320 kB)\n",
      "\u001b[2K     \u001b[90m━━━━━━━━━━━━━━━━━━━━━━━━━━━━━━━━━━━━━━━\u001b[0m \u001b[32m320.7/320.7 KB\u001b[0m \u001b[31m1.1 MB/s\u001b[0m eta \u001b[36m0:00:00\u001b[0ma \u001b[36m0:00:01\u001b[0m\n",
      "\u001b[?25hCollecting httpx<1,>=0.23.0\n",
      "  Downloading httpx-0.27.0-py3-none-any.whl (75 kB)\n",
      "\u001b[2K     \u001b[90m━━━━━━━━━━━━━━━━━━━━━━━━━━━━━━━━━━━━━━━━\u001b[0m \u001b[32m75.6/75.6 KB\u001b[0m \u001b[31m9.4 MB/s\u001b[0m eta \u001b[36m0:00:00\u001b[0m\n",
      "\u001b[?25hRequirement already satisfied: typing-extensions<5,>=4.7 in /usr/local/lib/python3.10/dist-packages (from openai) (4.8.0)\n",
      "Collecting tqdm>4\n",
      "  Downloading tqdm-4.66.4-py3-none-any.whl (78 kB)\n",
      "\u001b[2K     \u001b[90m━━━━━━━━━━━━━━━━━━━━━━━━━━━━━━━━━━━━━━━━\u001b[0m \u001b[32m78.3/78.3 KB\u001b[0m \u001b[31m10.2 MB/s\u001b[0m eta \u001b[36m0:00:00\u001b[0m\n",
      "\u001b[?25hCollecting distro<2,>=1.7.0\n",
      "  Downloading distro-1.9.0-py3-none-any.whl (20 kB)\n",
      "Requirement already satisfied: anyio<5,>=3.5.0 in /usr/local/lib/python3.10/dist-packages (from openai) (4.0.0)\n",
      "Requirement already satisfied: pydantic<3,>=1.9.0 in /home/workbench/.local/lib/python3.10/site-packages (from openai) (2.7.1)\n",
      "Requirement already satisfied: sniffio in /usr/local/lib/python3.10/dist-packages (from openai) (1.3.0)\n",
      "Requirement already satisfied: idna>=2.8 in /usr/local/lib/python3.10/dist-packages (from anyio<5,>=3.5.0->openai) (3.4)\n",
      "Requirement already satisfied: exceptiongroup>=1.0.2 in /usr/local/lib/python3.10/dist-packages (from anyio<5,>=3.5.0->openai) (1.1.3)\n",
      "Collecting httpcore==1.*\n",
      "  Downloading httpcore-1.0.5-py3-none-any.whl (77 kB)\n",
      "\u001b[2K     \u001b[90m━━━━━━━━━━━━━━━━━━━━━━━━━━━━━━━━━━━━━━━━\u001b[0m \u001b[32m77.9/77.9 KB\u001b[0m \u001b[31m9.4 MB/s\u001b[0m eta \u001b[36m0:00:00\u001b[0m\n",
      "\u001b[?25hRequirement already satisfied: certifi in /usr/local/lib/python3.10/dist-packages (from httpx<1,>=0.23.0->openai) (2023.7.22)\n",
      "Collecting h11<0.15,>=0.13\n",
      "  Downloading h11-0.14.0-py3-none-any.whl (58 kB)\n",
      "\u001b[2K     \u001b[90m━━━━━━━━━━━━━━━━━━━━━━━━━━━━━━━━━━━━━━━━\u001b[0m \u001b[32m58.3/58.3 KB\u001b[0m \u001b[31m8.4 MB/s\u001b[0m eta \u001b[36m0:00:00\u001b[0m\n",
      "\u001b[?25hRequirement already satisfied: pydantic-core==2.18.2 in /home/workbench/.local/lib/python3.10/site-packages (from pydantic<3,>=1.9.0->openai) (2.18.2)\n",
      "Requirement already satisfied: annotated-types>=0.4.0 in /home/workbench/.local/lib/python3.10/site-packages (from pydantic<3,>=1.9.0->openai) (0.7.0)\n",
      "Installing collected packages: tqdm, h11, distro, httpcore, httpx, openai\n",
      "\u001b[33m  WARNING: The script tqdm is installed in '/home/workbench/.local/bin' which is not on PATH.\n",
      "  Consider adding this directory to PATH or, if you prefer to suppress this warning, use --no-warn-script-location.\u001b[0m\u001b[33m\n",
      "\u001b[0m\u001b[33m  WARNING: The script distro is installed in '/home/workbench/.local/bin' which is not on PATH.\n",
      "  Consider adding this directory to PATH or, if you prefer to suppress this warning, use --no-warn-script-location.\u001b[0m\u001b[33m\n",
      "\u001b[0m\u001b[33m  WARNING: The script httpx is installed in '/home/workbench/.local/bin' which is not on PATH.\n",
      "  Consider adding this directory to PATH or, if you prefer to suppress this warning, use --no-warn-script-location.\u001b[0m\u001b[33m\n",
      "\u001b[0m\u001b[33m  WARNING: The script openai is installed in '/home/workbench/.local/bin' which is not on PATH.\n",
      "  Consider adding this directory to PATH or, if you prefer to suppress this warning, use --no-warn-script-location.\u001b[0m\u001b[33m\n",
      "\u001b[0mSuccessfully installed distro-1.9.0 h11-0.14.0 httpcore-1.0.5 httpx-0.27.0 openai-1.30.2 tqdm-4.66.4\n"
     ]
    }
   ],
   "source": [
    "!pip install openai"
   ]
  },
  {
   "cell_type": "code",
   "execution_count": 18,
   "id": "d32b6675-eb67-42d7-8909-6b00ec6607c4",
   "metadata": {},
   "outputs": [
    {
     "name": "stdout",
     "output_type": "stream",
     "text": [
      " Sure, I've corrected the formatting, removed extra spaces, and added missing spaces where necessary. Here's the corrected content:\n",
      "\n",
      "```\n",
      "page_content='Chapter 100 Security, Access, National Security, and Foreign Filing\\nGeneral 101 \\nInformation as to Status of an Application\\n102 \\nRight of Public To Inspect Patent Files and Some Application Files\\n103 \\nPower to Inspect Application\\n104 \\nSuspended or Excluded Practitioner Cannot Inspect\\n105 \\nControl of Inspection by Assignee\\n106 \\nRights of Assignee of Part Interest\\n106.01 \\n[Reserved]\\n107-109 \\nConfidential Nature of International Applications\\n110 \\n[Reserved]\\n111-114 \\nReview of Applications for National Security and Property Rights Issues\\n115 \\n[Reserved]\\n116-119 \\nSecrecy Orders\\n120 \\nHandling of Applications under Secrecy Order and/or Bearing National Security Markings\\n121 \\n[Reserved]\\n122-129 \\nExamination of Secrecy Order Cases\\n130 \\n[Reserved]\\n131-139 \\nForeign Filing Licenses\\n140 \\n[Reserved]\\n141-149 \\nStatements to DOE and NASA\\n150 \\nContent of the Statements\\n151 \\n101 General [R-07.2022]\\n35 U.S.C. 122 Confidential status of applications; publication of patent applications.\\n(a) CONFIDENTIALITY.— Except as provided in subsection (b), applications for patents shall be kept in confidence by the Patent and Trademark Office and no information concerning the same given without authority of the applicant or owner unless necessary to carry out the provisions of an Act of Congress or in such special circumstances as may be determined by the Director.\\n(b) PUBLICATION.\\n(1) IN GENERAL.\\n(A) Subject to paragraph (2), each application for a patent shall be published, in accordance with procedures determined by the Director, promptly after the expiration of a period of 18 months from the earliest filing date for which a benefit is sought under this title. At the request of the applicant, an application may be published earlier than the end of such 18-month period.\\n(B) No information concerning published patent applications shall be made available to the public except as the Director determines.\\n(C) Notwithstanding any other provision of law, a determination by the Director to release or not to release information concerning a published patent application shall be final and nonreviewable.\\n(2) EXCEPTIONS.\\n(A) An application shall not be published if that application is—\\n(i) no longer pending;\\n(ii) subject to a secrecy order under section 181 ;\\n(iii) a provisional application filed under section 111(b) ; or\\n(iv) an application for a design patent filed under chapter 16 .\\n(B)(i) If an applicant makes a request upon filing, certifying that the invention disclosed in the application has not and will not be the subject of an application filed in another country, or under a multilateral international agreement, that requires publication of applications 18 months after filing, the application shall not be published as provided in paragraph (1).\\n(ii) An applicant may rescind a request made under clause (i) at any time.\\n(iii) An applicant who has made a request under clause (i) but who subsequently files, in a foreign country or under a multilateral international agreement specified in clause (i), an application directed to the invention disclosed in the application filed in the Patent and Trademark Office, shall notify the Director of such filing not later than 45 days after the date of the filing of such foreign or international application. A failure of the applicant to provide such notice within the prescribed period shall result in the application being regarded as abandoned.\\n(iv) If an applicant rescinds a request made under clause (i) or notifies the Director that an application was filed in a foreign country or under a multilateral international agreement specified in clause (i), the application shall be published in accordance with the provisions of paragraph (1) on or as soon as is practical\n"
     ]
    }
   ],
   "source": [
    "# Example usage:\n",
    "api_key = \"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\"\n",
    "prompt = f\"Please correct the content provide, removing extra spaces, missing spaces, and other formatting errors. Content: {pages[0]}\"\n",
    "response = get_chat_response(prompt, api_key)\n",
    "print(response)"
   ]
  },
  {
   "cell_type": "code",
   "execution_count": null,
   "id": "497fe914-54a6-4c3b-b65a-f0497cfae07f",
   "metadata": {},
   "outputs": [],
   "source": []
  },
  {
   "cell_type": "code",
   "execution_count": 17,
   "id": "d9325c46-2a41-4b79-bd21-f914b0f48b1e",
   "metadata": {},
   "outputs": [
    {
     "name": "stdout",
     "output_type": "stream",
     "text": [
      "page_content='Chapter 100   Secr ecy, Access, National Security , and F oreign\\nFiling\\nGeneral 101 \\nInformation as to Status of an\\nApplication102 \\nRight of Public To Inspect P atent Files\\nand Some Application Files103 \\nPower to Inspect Application 104 \\nSuspended or Excluded Practitioner\\nCannot Inspect105 \\nContr ol of Inspection by Assignee 106 \\nRights of Assignee of P art Interest 106.01 \\n[Reser ved] 107-109 \\nConfidential Natur e of Inter national\\nApplications110 \\n[Reser ved] 111-114 \\nReview of Applications f or National\\nSecurity and Pr operty Rights Issues115 \\n[Reser ved] 116-119 \\nSecrecy Orders 120 \\nHandling of Applications under Secr ecy\\nOrder and/or Bearing National Security\\nMarkings121 \\n[Reser ved] 122-129 \\nExamination of Secr ecy Order Cases 130 \\n[Reser ved] 131-139 \\nForeign Filing Licenses 140 \\n[Reser ved] 141-149 \\nStatements to DOE and N ASA 150 \\nContent of the Statements 151 \\n101  General [R-07.2022]\\n35 U .S.C. 122  Confidential status of applications;\\npublication of patent applications.\\n(a)  CONFIDENTIALITY .— Except as pro vided in\\nsubsection (b), applications for patents shall be k ept in\\nconfidence by the P atent and Trademark Office and no\\ninformation concerning the same gi ven without authority of the\\napplicant or o wner unless necessary to carry out the pro visions\\nof an Act of Congress or in such special circumstances as may\\nbe determined by the Director .\\n(b)  PUBLICA TION.—\\n(1)  IN GENERAL.—\\n(A)  Subject to paragraph (2), each application for\\na patent shall be published, in accordance with procedures\\ndetermined by the Director , promptly after the e xpiration of a\\nperiod of 18 months from the earliest filing date for which a\\nbenefit is sought under this title. At the request of the applicant,\\nan application may be published earlier than the end of such\\n18-month period.(B)  No information concerning published patent\\napplications shall be made a vailable to the public e xcept as the\\nDirector determines.\\n(C)  Notwithstanding an y other pro vision of la w,\\na determination by the Director to release or not to release\\ninformation concerning a published patent application shall be\\nfinal and nonre viewable.\\n(2)  EXCEPTIONS.—\\n(A)  An application shall not be published if that\\napplication is—\\n(i)  no longer pending;\\n(ii)  subject to a secrec y order under section\\n181 ;\\n(iii)  a pro visional application filed under\\nsection 111(b) ; or\\n(iv)  an application for a design patent filed\\nunder chapter 16 .\\n(B)(i)  If an applicant mak es a request upon\\nfiling, certifying that the in vention disclosed in the application\\nhas not and will not be the subject of an application filed in\\nanother country , or under a multilateral international agreement,\\nthat requires publication of applications 18 months after filing,\\nthe application shall not be published as pro vided in paragraph\\n(1).\\n(ii)  An applicant may rescind a request made\\nunder clause (i) at an y time.\\n(iii)  An applicant who has made a request\\nunder clause (i) b ut who subsequently files, in a foreign country\\nor under a multilateral international agreement specified in\\nclause (i), an application directed to the in vention disclosed in\\nthe application filed in the P atent and Trademark Office, shall\\nnotify the Director of such filing not later than 45 days after the\\ndate of the filing of such foreign or international application. A\\nfailure of the applicant to pro vide such notice within the\\nprescribed period shall result in the application being re garded\\nas abandoned.\\n(iv)  If an applicant rescinds a request made\\nunder clause (i) or notifies the Director that an application w as\\nfiled in a foreign country or under a multilateral international\\nagreement specified in clause (i), the application shall be\\npublished in accordance with the pro visions of paragraph (1)\\non or as soon as is practical after the date that is specified in\\nclause (i).\\n(v)  If an applicant has filed applications in one\\nor more foreign countries, directly or through a multilateral' metadata={'source': '../data/scratch/pdfs/mpep-0100.pdf', 'page': 0}\n"
     ]
    }
   ],
   "source": [
    "print(pages[0])"
   ]
  }
 ],
 "metadata": {
  "kernelspec": {
   "display_name": "Python 3 (ipykernel)",
   "language": "python",
   "name": "python3"
  },
  "language_info": {
   "codemirror_mode": {
    "name": "ipython",
    "version": 3
   },
   "file_extension": ".py",
   "mimetype": "text/x-python",
   "name": "python",
   "nbconvert_exporter": "python",
   "pygments_lexer": "ipython3",
   "version": "3.10.12"
  }
 },
 "nbformat": 4,
 "nbformat_minor": 5
}
